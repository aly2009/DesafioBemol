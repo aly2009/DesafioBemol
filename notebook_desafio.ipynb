{
 "cells": [
  {
   "cell_type": "markdown",
   "metadata": {},
   "source": [
    "# Fundamentos de Manipulação e Análise de Dados\n",
    "# Desafio Bemol - XP Lab \n",
    "## Participante: Alysson Cristiano Estevam de Moura"
   ]
  },
  {
   "cell_type": "markdown",
   "metadata": {},
   "source": [
    "# Manipulação de Dados"
   ]
  },
  {
   "cell_type": "code",
   "execution_count": 1,
   "metadata": {},
   "outputs": [],
   "source": [
    "import pandas as pd"
   ]
  },
  {
   "cell_type": "markdown",
   "metadata": {},
   "source": [
    "# Leitura de Arquivos"
   ]
  },
  {
   "cell_type": "markdown",
   "metadata": {},
   "source": [
    "## Arquivos CSV"
   ]
  },
  {
   "cell_type": "code",
   "execution_count": 234,
   "metadata": {},
   "outputs": [],
   "source": [
    "df_vendas = pd.read_csv('vendas.csv', sep = '|', skiprows = 0, encoding = 'utf-8')"
   ]
  },
  {
   "cell_type": "code",
   "execution_count": 235,
   "metadata": {},
   "outputs": [
    {
     "data": {
      "text/html": [
       "<div>\n",
       "<style scoped>\n",
       "    .dataframe tbody tr th:only-of-type {\n",
       "        vertical-align: middle;\n",
       "    }\n",
       "\n",
       "    .dataframe tbody tr th {\n",
       "        vertical-align: top;\n",
       "    }\n",
       "\n",
       "    .dataframe thead th {\n",
       "        text-align: right;\n",
       "    }\n",
       "</style>\n",
       "<table border=\"1\" class=\"dataframe\">\n",
       "  <thead>\n",
       "    <tr style=\"text-align: right;\">\n",
       "      <th></th>\n",
       "      <th>Escritório de vendas</th>\n",
       "      <th>Fornecedor</th>\n",
       "      <th>Material</th>\n",
       "      <th>Data</th>\n",
       "      <th>Valor Liquido</th>\n",
       "    </tr>\n",
       "  </thead>\n",
       "  <tbody>\n",
       "    <tr>\n",
       "      <th>0</th>\n",
       "      <td>101</td>\n",
       "      <td>Vivo</td>\n",
       "      <td>131318             RECARGA VIRTUAL VIVO R$ 1,00</td>\n",
       "      <td>02.01.2020</td>\n",
       "      <td>20.0</td>\n",
       "    </tr>\n",
       "    <tr>\n",
       "      <th>1</th>\n",
       "      <td>101</td>\n",
       "      <td>Vivo</td>\n",
       "      <td>131318             RECARGA VIRTUAL VIVO R$ 1,00</td>\n",
       "      <td>30.12.2019</td>\n",
       "      <td>10.0</td>\n",
       "    </tr>\n",
       "    <tr>\n",
       "      <th>2</th>\n",
       "      <td>101</td>\n",
       "      <td>Vivo</td>\n",
       "      <td>131318             RECARGA VIRTUAL VIVO R$ 1,00</td>\n",
       "      <td>04.01.2020</td>\n",
       "      <td>20.0</td>\n",
       "    </tr>\n",
       "    <tr>\n",
       "      <th>3</th>\n",
       "      <td>101</td>\n",
       "      <td>Vivo</td>\n",
       "      <td>131318             RECARGA VIRTUAL VIVO R$ 1,00</td>\n",
       "      <td>02.01.2020</td>\n",
       "      <td>10.0</td>\n",
       "    </tr>\n",
       "    <tr>\n",
       "      <th>4</th>\n",
       "      <td>101</td>\n",
       "      <td>Vivo</td>\n",
       "      <td>131318             RECARGA VIRTUAL VIVO R$ 1,00</td>\n",
       "      <td>03.01.2020</td>\n",
       "      <td>25.0</td>\n",
       "    </tr>\n",
       "  </tbody>\n",
       "</table>\n",
       "</div>"
      ],
      "text/plain": [
       "   Escritório de vendas Fornecedor  \\\n",
       "0                   101       Vivo   \n",
       "1                   101       Vivo   \n",
       "2                   101       Vivo   \n",
       "3                   101       Vivo   \n",
       "4                   101       Vivo   \n",
       "\n",
       "                                          Material        Data  Valor Liquido  \n",
       "0  131318             RECARGA VIRTUAL VIVO R$ 1,00  02.01.2020           20.0  \n",
       "1  131318             RECARGA VIRTUAL VIVO R$ 1,00  30.12.2019           10.0  \n",
       "2  131318             RECARGA VIRTUAL VIVO R$ 1,00  04.01.2020           20.0  \n",
       "3  131318             RECARGA VIRTUAL VIVO R$ 1,00  02.01.2020           10.0  \n",
       "4  131318             RECARGA VIRTUAL VIVO R$ 1,00  03.01.2020           25.0  "
      ]
     },
     "execution_count": 235,
     "metadata": {},
     "output_type": "execute_result"
    }
   ],
   "source": [
    "df_vendas.head()"
   ]
  },
  {
   "cell_type": "markdown",
   "metadata": {},
   "source": [
    "## Arquivos XLSX"
   ]
  },
  {
   "cell_type": "code",
   "execution_count": 236,
   "metadata": {},
   "outputs": [],
   "source": [
    "detalhamento_AM = pd.read_excel('detalhamento.xlsx', sheet_name = 'AM', skiprows = 1)\n",
    "detalhamento_RR = pd.read_excel('detalhamento.xlsx', sheet_name = 'RR', skiprows = 1)\n",
    "detalhamento_RO = pd.read_excel('detalhamento.xlsx', sheet_name = 'RO', skiprows = 1)\n",
    "detalhamento_AC = pd.read_excel('detalhamento.xlsx', sheet_name = 'AC', skiprows = 1)"
   ]
  },
  {
   "cell_type": "code",
   "execution_count": 237,
   "metadata": {},
   "outputs": [
    {
     "data": {
      "text/html": [
       "<div>\n",
       "<style scoped>\n",
       "    .dataframe tbody tr th:only-of-type {\n",
       "        vertical-align: middle;\n",
       "    }\n",
       "\n",
       "    .dataframe tbody tr th {\n",
       "        vertical-align: top;\n",
       "    }\n",
       "\n",
       "    .dataframe thead th {\n",
       "        text-align: right;\n",
       "    }\n",
       "</style>\n",
       "<table border=\"1\" class=\"dataframe\">\n",
       "  <thead>\n",
       "    <tr style=\"text-align: right;\">\n",
       "      <th></th>\n",
       "      <th>NomeFantasia</th>\n",
       "      <th>Escritório de vendas</th>\n",
       "      <th>UF</th>\n",
       "      <th>Operadora</th>\n",
       "      <th>Vlookup Bruto</th>\n",
       "    </tr>\n",
       "  </thead>\n",
       "  <tbody>\n",
       "    <tr>\n",
       "      <th>0</th>\n",
       "      <td>BEMOL AVENIDA</td>\n",
       "      <td>103</td>\n",
       "      <td>AM</td>\n",
       "      <td>Claro</td>\n",
       "      <td>2651</td>\n",
       "    </tr>\n",
       "    <tr>\n",
       "      <th>1</th>\n",
       "      <td>BEMOL AVENIDA</td>\n",
       "      <td>103</td>\n",
       "      <td>AM</td>\n",
       "      <td>Oi</td>\n",
       "      <td>3309</td>\n",
       "    </tr>\n",
       "    <tr>\n",
       "      <th>2</th>\n",
       "      <td>BEMOL AVENIDA</td>\n",
       "      <td>103</td>\n",
       "      <td>AM</td>\n",
       "      <td>Tim</td>\n",
       "      <td>1550</td>\n",
       "    </tr>\n",
       "    <tr>\n",
       "      <th>3</th>\n",
       "      <td>BEMOL AVENIDA</td>\n",
       "      <td>103</td>\n",
       "      <td>AM</td>\n",
       "      <td>Vivo</td>\n",
       "      <td>4739</td>\n",
       "    </tr>\n",
       "    <tr>\n",
       "      <th>4</th>\n",
       "      <td>BEMOL BARROSO</td>\n",
       "      <td>107</td>\n",
       "      <td>AM</td>\n",
       "      <td>Claro</td>\n",
       "      <td>1495</td>\n",
       "    </tr>\n",
       "  </tbody>\n",
       "</table>\n",
       "</div>"
      ],
      "text/plain": [
       "    NomeFantasia  Escritório de vendas  UF Operadora  Vlookup Bruto\n",
       "0  BEMOL AVENIDA                   103  AM     Claro           2651\n",
       "1  BEMOL AVENIDA                   103  AM        Oi           3309\n",
       "2  BEMOL AVENIDA                   103  AM       Tim           1550\n",
       "3  BEMOL AVENIDA                   103  AM      Vivo           4739\n",
       "4  BEMOL BARROSO                   107  AM     Claro           1495"
      ]
     },
     "execution_count": 237,
     "metadata": {},
     "output_type": "execute_result"
    }
   ],
   "source": [
    "detalhamento_AM.head()"
   ]
  },
  {
   "cell_type": "code",
   "execution_count": 238,
   "metadata": {},
   "outputs": [
    {
     "data": {
      "text/html": [
       "<div>\n",
       "<style scoped>\n",
       "    .dataframe tbody tr th:only-of-type {\n",
       "        vertical-align: middle;\n",
       "    }\n",
       "\n",
       "    .dataframe tbody tr th {\n",
       "        vertical-align: top;\n",
       "    }\n",
       "\n",
       "    .dataframe thead th {\n",
       "        text-align: right;\n",
       "    }\n",
       "</style>\n",
       "<table border=\"1\" class=\"dataframe\">\n",
       "  <thead>\n",
       "    <tr style=\"text-align: right;\">\n",
       "      <th></th>\n",
       "      <th>NomeFantasia</th>\n",
       "      <th>Escritório de vendas</th>\n",
       "      <th>UF</th>\n",
       "      <th>Operadora</th>\n",
       "      <th>Vlookup Bruto</th>\n",
       "    </tr>\n",
       "  </thead>\n",
       "  <tbody>\n",
       "    <tr>\n",
       "      <th>0</th>\n",
       "      <td>BEMOL BOA VISTA</td>\n",
       "      <td>701</td>\n",
       "      <td>RR</td>\n",
       "      <td>Claro</td>\n",
       "      <td>140</td>\n",
       "    </tr>\n",
       "    <tr>\n",
       "      <th>1</th>\n",
       "      <td>BEMOL BOA VISTA</td>\n",
       "      <td>701</td>\n",
       "      <td>RR</td>\n",
       "      <td>Oi</td>\n",
       "      <td>20</td>\n",
       "    </tr>\n",
       "    <tr>\n",
       "      <th>2</th>\n",
       "      <td>BEMOL BOA VISTA</td>\n",
       "      <td>701</td>\n",
       "      <td>RR</td>\n",
       "      <td>Tim</td>\n",
       "      <td>135</td>\n",
       "    </tr>\n",
       "    <tr>\n",
       "      <th>3</th>\n",
       "      <td>BEMOL BOA VISTA</td>\n",
       "      <td>701</td>\n",
       "      <td>RR</td>\n",
       "      <td>Vivo</td>\n",
       "      <td>304</td>\n",
       "    </tr>\n",
       "    <tr>\n",
       "      <th>4</th>\n",
       "      <td>BEMOL FARMA BOA VISTA</td>\n",
       "      <td>610</td>\n",
       "      <td>RR</td>\n",
       "      <td>Claro</td>\n",
       "      <td>260</td>\n",
       "    </tr>\n",
       "  </tbody>\n",
       "</table>\n",
       "</div>"
      ],
      "text/plain": [
       "            NomeFantasia  Escritório de vendas  UF Operadora  Vlookup Bruto\n",
       "0        BEMOL BOA VISTA                   701  RR     Claro            140\n",
       "1        BEMOL BOA VISTA                   701  RR        Oi             20\n",
       "2        BEMOL BOA VISTA                   701  RR       Tim            135\n",
       "3        BEMOL BOA VISTA                   701  RR      Vivo            304\n",
       "4  BEMOL FARMA BOA VISTA                   610  RR     Claro            260"
      ]
     },
     "execution_count": 238,
     "metadata": {},
     "output_type": "execute_result"
    }
   ],
   "source": [
    "detalhamento_RR.head()"
   ]
  },
  {
   "cell_type": "code",
   "execution_count": 239,
   "metadata": {},
   "outputs": [
    {
     "data": {
      "text/html": [
       "<div>\n",
       "<style scoped>\n",
       "    .dataframe tbody tr th:only-of-type {\n",
       "        vertical-align: middle;\n",
       "    }\n",
       "\n",
       "    .dataframe tbody tr th {\n",
       "        vertical-align: top;\n",
       "    }\n",
       "\n",
       "    .dataframe thead th {\n",
       "        text-align: right;\n",
       "    }\n",
       "</style>\n",
       "<table border=\"1\" class=\"dataframe\">\n",
       "  <thead>\n",
       "    <tr style=\"text-align: right;\">\n",
       "      <th></th>\n",
       "      <th>NomeFantasia</th>\n",
       "      <th>Escritório de vendas</th>\n",
       "      <th>UF</th>\n",
       "      <th>Operadora</th>\n",
       "      <th>Vlookup Bruto</th>\n",
       "    </tr>\n",
       "  </thead>\n",
       "  <tbody>\n",
       "    <tr>\n",
       "      <th>0</th>\n",
       "      <td>BEMOL FARMA PORTO VELHO</td>\n",
       "      <td>609</td>\n",
       "      <td>RO</td>\n",
       "      <td>Claro</td>\n",
       "      <td>486</td>\n",
       "    </tr>\n",
       "    <tr>\n",
       "      <th>1</th>\n",
       "      <td>BEMOL FARMA PORTO VELHO</td>\n",
       "      <td>609</td>\n",
       "      <td>RO</td>\n",
       "      <td>Oi</td>\n",
       "      <td>90</td>\n",
       "    </tr>\n",
       "    <tr>\n",
       "      <th>2</th>\n",
       "      <td>BEMOL FARMA PORTO VELHO</td>\n",
       "      <td>609</td>\n",
       "      <td>RO</td>\n",
       "      <td>Tim</td>\n",
       "      <td>90</td>\n",
       "    </tr>\n",
       "    <tr>\n",
       "      <th>3</th>\n",
       "      <td>BEMOL FARMA PORTO VELHO</td>\n",
       "      <td>609</td>\n",
       "      <td>RO</td>\n",
       "      <td>Vivo</td>\n",
       "      <td>60</td>\n",
       "    </tr>\n",
       "    <tr>\n",
       "      <th>4</th>\n",
       "      <td>BEMOL PORTO VELHO</td>\n",
       "      <td>201</td>\n",
       "      <td>RO</td>\n",
       "      <td>Claro</td>\n",
       "      <td>1585</td>\n",
       "    </tr>\n",
       "  </tbody>\n",
       "</table>\n",
       "</div>"
      ],
      "text/plain": [
       "              NomeFantasia  Escritório de vendas  UF Operadora  Vlookup Bruto\n",
       "0  BEMOL FARMA PORTO VELHO                   609  RO     Claro            486\n",
       "1  BEMOL FARMA PORTO VELHO                   609  RO        Oi             90\n",
       "2  BEMOL FARMA PORTO VELHO                   609  RO       Tim             90\n",
       "3  BEMOL FARMA PORTO VELHO                   609  RO      Vivo             60\n",
       "4        BEMOL PORTO VELHO                   201  RO     Claro           1585"
      ]
     },
     "execution_count": 239,
     "metadata": {},
     "output_type": "execute_result"
    }
   ],
   "source": [
    "detalhamento_RO.head()"
   ]
  },
  {
   "cell_type": "code",
   "execution_count": 240,
   "metadata": {},
   "outputs": [
    {
     "data": {
      "text/html": [
       "<div>\n",
       "<style scoped>\n",
       "    .dataframe tbody tr th:only-of-type {\n",
       "        vertical-align: middle;\n",
       "    }\n",
       "\n",
       "    .dataframe tbody tr th {\n",
       "        vertical-align: top;\n",
       "    }\n",
       "\n",
       "    .dataframe thead th {\n",
       "        text-align: right;\n",
       "    }\n",
       "</style>\n",
       "<table border=\"1\" class=\"dataframe\">\n",
       "  <thead>\n",
       "    <tr style=\"text-align: right;\">\n",
       "      <th></th>\n",
       "      <th>NomeFantasia</th>\n",
       "      <th>Escritório de vendas</th>\n",
       "      <th>UF</th>\n",
       "      <th>Operadora</th>\n",
       "      <th>Valor Bruto</th>\n",
       "    </tr>\n",
       "  </thead>\n",
       "  <tbody>\n",
       "    <tr>\n",
       "      <th>0</th>\n",
       "      <td>BEMOL RIO BRANCO</td>\n",
       "      <td>401</td>\n",
       "      <td>AC</td>\n",
       "      <td>Claro</td>\n",
       "      <td>500</td>\n",
       "    </tr>\n",
       "    <tr>\n",
       "      <th>1</th>\n",
       "      <td>BEMOL RIO BRANCO</td>\n",
       "      <td>401</td>\n",
       "      <td>AC</td>\n",
       "      <td>Oi</td>\n",
       "      <td>375</td>\n",
       "    </tr>\n",
       "    <tr>\n",
       "      <th>2</th>\n",
       "      <td>BEMOL RIO BRANCO</td>\n",
       "      <td>401</td>\n",
       "      <td>AC</td>\n",
       "      <td>Tim</td>\n",
       "      <td>125</td>\n",
       "    </tr>\n",
       "    <tr>\n",
       "      <th>3</th>\n",
       "      <td>BEMOL RIO BRANCO</td>\n",
       "      <td>401</td>\n",
       "      <td>AC</td>\n",
       "      <td>Vivo</td>\n",
       "      <td>343</td>\n",
       "    </tr>\n",
       "  </tbody>\n",
       "</table>\n",
       "</div>"
      ],
      "text/plain": [
       "       NomeFantasia  Escritório de vendas  UF Operadora  Valor Bruto\n",
       "0  BEMOL RIO BRANCO                   401  AC     Claro          500\n",
       "1  BEMOL RIO BRANCO                   401  AC        Oi          375\n",
       "2  BEMOL RIO BRANCO                   401  AC       Tim          125\n",
       "3  BEMOL RIO BRANCO                   401  AC      Vivo          343"
      ]
     },
     "execution_count": 240,
     "metadata": {},
     "output_type": "execute_result"
    }
   ],
   "source": [
    "detalhamento_AC.head()"
   ]
  },
  {
   "cell_type": "markdown",
   "metadata": {},
   "source": [
    "# Tratamento de Dados"
   ]
  },
  {
   "cell_type": "markdown",
   "metadata": {},
   "source": [
    "## Renomeando colunas"
   ]
  },
  {
   "cell_type": "code",
   "execution_count": 241,
   "metadata": {},
   "outputs": [
    {
     "data": {
      "text/html": [
       "<div>\n",
       "<style scoped>\n",
       "    .dataframe tbody tr th:only-of-type {\n",
       "        vertical-align: middle;\n",
       "    }\n",
       "\n",
       "    .dataframe tbody tr th {\n",
       "        vertical-align: top;\n",
       "    }\n",
       "\n",
       "    .dataframe thead th {\n",
       "        text-align: right;\n",
       "    }\n",
       "</style>\n",
       "<table border=\"1\" class=\"dataframe\">\n",
       "  <thead>\n",
       "    <tr style=\"text-align: right;\">\n",
       "      <th></th>\n",
       "      <th>escritorio_vendas</th>\n",
       "      <th>operadora</th>\n",
       "      <th>material</th>\n",
       "      <th>data</th>\n",
       "      <th>valor_liquido</th>\n",
       "    </tr>\n",
       "  </thead>\n",
       "  <tbody>\n",
       "    <tr>\n",
       "      <th>0</th>\n",
       "      <td>101</td>\n",
       "      <td>Vivo</td>\n",
       "      <td>131318             RECARGA VIRTUAL VIVO R$ 1,00</td>\n",
       "      <td>02.01.2020</td>\n",
       "      <td>20.0</td>\n",
       "    </tr>\n",
       "    <tr>\n",
       "      <th>1</th>\n",
       "      <td>101</td>\n",
       "      <td>Vivo</td>\n",
       "      <td>131318             RECARGA VIRTUAL VIVO R$ 1,00</td>\n",
       "      <td>30.12.2019</td>\n",
       "      <td>10.0</td>\n",
       "    </tr>\n",
       "    <tr>\n",
       "      <th>2</th>\n",
       "      <td>101</td>\n",
       "      <td>Vivo</td>\n",
       "      <td>131318             RECARGA VIRTUAL VIVO R$ 1,00</td>\n",
       "      <td>04.01.2020</td>\n",
       "      <td>20.0</td>\n",
       "    </tr>\n",
       "    <tr>\n",
       "      <th>3</th>\n",
       "      <td>101</td>\n",
       "      <td>Vivo</td>\n",
       "      <td>131318             RECARGA VIRTUAL VIVO R$ 1,00</td>\n",
       "      <td>02.01.2020</td>\n",
       "      <td>10.0</td>\n",
       "    </tr>\n",
       "    <tr>\n",
       "      <th>4</th>\n",
       "      <td>101</td>\n",
       "      <td>Vivo</td>\n",
       "      <td>131318             RECARGA VIRTUAL VIVO R$ 1,00</td>\n",
       "      <td>03.01.2020</td>\n",
       "      <td>25.0</td>\n",
       "    </tr>\n",
       "  </tbody>\n",
       "</table>\n",
       "</div>"
      ],
      "text/plain": [
       "   escritorio_vendas operadora  \\\n",
       "0                101      Vivo   \n",
       "1                101      Vivo   \n",
       "2                101      Vivo   \n",
       "3                101      Vivo   \n",
       "4                101      Vivo   \n",
       "\n",
       "                                          material        data  valor_liquido  \n",
       "0  131318             RECARGA VIRTUAL VIVO R$ 1,00  02.01.2020           20.0  \n",
       "1  131318             RECARGA VIRTUAL VIVO R$ 1,00  30.12.2019           10.0  \n",
       "2  131318             RECARGA VIRTUAL VIVO R$ 1,00  04.01.2020           20.0  \n",
       "3  131318             RECARGA VIRTUAL VIVO R$ 1,00  02.01.2020           10.0  \n",
       "4  131318             RECARGA VIRTUAL VIVO R$ 1,00  03.01.2020           25.0  "
      ]
     },
     "execution_count": 241,
     "metadata": {},
     "output_type": "execute_result"
    }
   ],
   "source": [
    "df_vendas = df_vendas.rename(columns={'Escritório de vendas':'escritorio_vendas', 'Fornecedor':'operadora','Material':'material', 'Data':'data', 'Valor Liquido':'valor_liquido'})\n",
    "df_vendas.head()"
   ]
  },
  {
   "cell_type": "code",
   "execution_count": 242,
   "metadata": {},
   "outputs": [
    {
     "data": {
      "text/html": [
       "<div>\n",
       "<style scoped>\n",
       "    .dataframe tbody tr th:only-of-type {\n",
       "        vertical-align: middle;\n",
       "    }\n",
       "\n",
       "    .dataframe tbody tr th {\n",
       "        vertical-align: top;\n",
       "    }\n",
       "\n",
       "    .dataframe thead th {\n",
       "        text-align: right;\n",
       "    }\n",
       "</style>\n",
       "<table border=\"1\" class=\"dataframe\">\n",
       "  <thead>\n",
       "    <tr style=\"text-align: right;\">\n",
       "      <th></th>\n",
       "      <th>nome_fantasia</th>\n",
       "      <th>escritorio_vendas</th>\n",
       "      <th>uf</th>\n",
       "      <th>operadora</th>\n",
       "      <th>valor_bruto</th>\n",
       "    </tr>\n",
       "  </thead>\n",
       "  <tbody>\n",
       "    <tr>\n",
       "      <th>0</th>\n",
       "      <td>BEMOL AVENIDA</td>\n",
       "      <td>103</td>\n",
       "      <td>AM</td>\n",
       "      <td>Claro</td>\n",
       "      <td>2651</td>\n",
       "    </tr>\n",
       "    <tr>\n",
       "      <th>1</th>\n",
       "      <td>BEMOL AVENIDA</td>\n",
       "      <td>103</td>\n",
       "      <td>AM</td>\n",
       "      <td>Oi</td>\n",
       "      <td>3309</td>\n",
       "    </tr>\n",
       "    <tr>\n",
       "      <th>2</th>\n",
       "      <td>BEMOL AVENIDA</td>\n",
       "      <td>103</td>\n",
       "      <td>AM</td>\n",
       "      <td>Tim</td>\n",
       "      <td>1550</td>\n",
       "    </tr>\n",
       "    <tr>\n",
       "      <th>3</th>\n",
       "      <td>BEMOL AVENIDA</td>\n",
       "      <td>103</td>\n",
       "      <td>AM</td>\n",
       "      <td>Vivo</td>\n",
       "      <td>4739</td>\n",
       "    </tr>\n",
       "    <tr>\n",
       "      <th>4</th>\n",
       "      <td>BEMOL BARROSO</td>\n",
       "      <td>107</td>\n",
       "      <td>AM</td>\n",
       "      <td>Claro</td>\n",
       "      <td>1495</td>\n",
       "    </tr>\n",
       "  </tbody>\n",
       "</table>\n",
       "</div>"
      ],
      "text/plain": [
       "   nome_fantasia  escritorio_vendas  uf operadora  valor_bruto\n",
       "0  BEMOL AVENIDA                103  AM     Claro         2651\n",
       "1  BEMOL AVENIDA                103  AM        Oi         3309\n",
       "2  BEMOL AVENIDA                103  AM       Tim         1550\n",
       "3  BEMOL AVENIDA                103  AM      Vivo         4739\n",
       "4  BEMOL BARROSO                107  AM     Claro         1495"
      ]
     },
     "execution_count": 242,
     "metadata": {},
     "output_type": "execute_result"
    }
   ],
   "source": [
    "detalhamento_AM = detalhamento_AM.rename(columns={'NomeFantasia':'nome_fantasia','Escritório de vendas':'escritorio_vendas','UF':'uf', 'Operadora':'operadora','Vlookup Bruto':'valor_bruto'})\n",
    "detalhamento_AM.head()"
   ]
  },
  {
   "cell_type": "code",
   "execution_count": 243,
   "metadata": {},
   "outputs": [
    {
     "data": {
      "text/html": [
       "<div>\n",
       "<style scoped>\n",
       "    .dataframe tbody tr th:only-of-type {\n",
       "        vertical-align: middle;\n",
       "    }\n",
       "\n",
       "    .dataframe tbody tr th {\n",
       "        vertical-align: top;\n",
       "    }\n",
       "\n",
       "    .dataframe thead th {\n",
       "        text-align: right;\n",
       "    }\n",
       "</style>\n",
       "<table border=\"1\" class=\"dataframe\">\n",
       "  <thead>\n",
       "    <tr style=\"text-align: right;\">\n",
       "      <th></th>\n",
       "      <th>nome_fantasia</th>\n",
       "      <th>escritorio_vendas</th>\n",
       "      <th>uf</th>\n",
       "      <th>operadora</th>\n",
       "      <th>valor_bruto</th>\n",
       "    </tr>\n",
       "  </thead>\n",
       "  <tbody>\n",
       "    <tr>\n",
       "      <th>0</th>\n",
       "      <td>BEMOL BOA VISTA</td>\n",
       "      <td>701</td>\n",
       "      <td>RR</td>\n",
       "      <td>Claro</td>\n",
       "      <td>140</td>\n",
       "    </tr>\n",
       "    <tr>\n",
       "      <th>1</th>\n",
       "      <td>BEMOL BOA VISTA</td>\n",
       "      <td>701</td>\n",
       "      <td>RR</td>\n",
       "      <td>Oi</td>\n",
       "      <td>20</td>\n",
       "    </tr>\n",
       "    <tr>\n",
       "      <th>2</th>\n",
       "      <td>BEMOL BOA VISTA</td>\n",
       "      <td>701</td>\n",
       "      <td>RR</td>\n",
       "      <td>Tim</td>\n",
       "      <td>135</td>\n",
       "    </tr>\n",
       "    <tr>\n",
       "      <th>3</th>\n",
       "      <td>BEMOL BOA VISTA</td>\n",
       "      <td>701</td>\n",
       "      <td>RR</td>\n",
       "      <td>Vivo</td>\n",
       "      <td>304</td>\n",
       "    </tr>\n",
       "    <tr>\n",
       "      <th>4</th>\n",
       "      <td>BEMOL FARMA BOA VISTA</td>\n",
       "      <td>610</td>\n",
       "      <td>RR</td>\n",
       "      <td>Claro</td>\n",
       "      <td>260</td>\n",
       "    </tr>\n",
       "  </tbody>\n",
       "</table>\n",
       "</div>"
      ],
      "text/plain": [
       "           nome_fantasia  escritorio_vendas  uf operadora  valor_bruto\n",
       "0        BEMOL BOA VISTA                701  RR     Claro          140\n",
       "1        BEMOL BOA VISTA                701  RR        Oi           20\n",
       "2        BEMOL BOA VISTA                701  RR       Tim          135\n",
       "3        BEMOL BOA VISTA                701  RR      Vivo          304\n",
       "4  BEMOL FARMA BOA VISTA                610  RR     Claro          260"
      ]
     },
     "execution_count": 243,
     "metadata": {},
     "output_type": "execute_result"
    }
   ],
   "source": [
    "detalhamento_RR = detalhamento_RR.rename(columns={'NomeFantasia':'nome_fantasia','Escritório de vendas':'escritorio_vendas','UF':'uf', 'Operadora':'operadora','Vlookup Bruto':'valor_bruto'})\n",
    "detalhamento_RR.head()"
   ]
  },
  {
   "cell_type": "code",
   "execution_count": 244,
   "metadata": {},
   "outputs": [
    {
     "data": {
      "text/html": [
       "<div>\n",
       "<style scoped>\n",
       "    .dataframe tbody tr th:only-of-type {\n",
       "        vertical-align: middle;\n",
       "    }\n",
       "\n",
       "    .dataframe tbody tr th {\n",
       "        vertical-align: top;\n",
       "    }\n",
       "\n",
       "    .dataframe thead th {\n",
       "        text-align: right;\n",
       "    }\n",
       "</style>\n",
       "<table border=\"1\" class=\"dataframe\">\n",
       "  <thead>\n",
       "    <tr style=\"text-align: right;\">\n",
       "      <th></th>\n",
       "      <th>nome_fantasia</th>\n",
       "      <th>escritorio_vendas</th>\n",
       "      <th>uf</th>\n",
       "      <th>operadora</th>\n",
       "      <th>valor_bruto</th>\n",
       "    </tr>\n",
       "  </thead>\n",
       "  <tbody>\n",
       "    <tr>\n",
       "      <th>0</th>\n",
       "      <td>BEMOL FARMA PORTO VELHO</td>\n",
       "      <td>609</td>\n",
       "      <td>RO</td>\n",
       "      <td>Claro</td>\n",
       "      <td>486</td>\n",
       "    </tr>\n",
       "    <tr>\n",
       "      <th>1</th>\n",
       "      <td>BEMOL FARMA PORTO VELHO</td>\n",
       "      <td>609</td>\n",
       "      <td>RO</td>\n",
       "      <td>Oi</td>\n",
       "      <td>90</td>\n",
       "    </tr>\n",
       "    <tr>\n",
       "      <th>2</th>\n",
       "      <td>BEMOL FARMA PORTO VELHO</td>\n",
       "      <td>609</td>\n",
       "      <td>RO</td>\n",
       "      <td>Tim</td>\n",
       "      <td>90</td>\n",
       "    </tr>\n",
       "    <tr>\n",
       "      <th>3</th>\n",
       "      <td>BEMOL FARMA PORTO VELHO</td>\n",
       "      <td>609</td>\n",
       "      <td>RO</td>\n",
       "      <td>Vivo</td>\n",
       "      <td>60</td>\n",
       "    </tr>\n",
       "    <tr>\n",
       "      <th>4</th>\n",
       "      <td>BEMOL PORTO VELHO</td>\n",
       "      <td>201</td>\n",
       "      <td>RO</td>\n",
       "      <td>Claro</td>\n",
       "      <td>1585</td>\n",
       "    </tr>\n",
       "  </tbody>\n",
       "</table>\n",
       "</div>"
      ],
      "text/plain": [
       "             nome_fantasia  escritorio_vendas  uf operadora  valor_bruto\n",
       "0  BEMOL FARMA PORTO VELHO                609  RO     Claro          486\n",
       "1  BEMOL FARMA PORTO VELHO                609  RO        Oi           90\n",
       "2  BEMOL FARMA PORTO VELHO                609  RO       Tim           90\n",
       "3  BEMOL FARMA PORTO VELHO                609  RO      Vivo           60\n",
       "4        BEMOL PORTO VELHO                201  RO     Claro         1585"
      ]
     },
     "execution_count": 244,
     "metadata": {},
     "output_type": "execute_result"
    }
   ],
   "source": [
    "detalhamento_RO = detalhamento_RO.rename(columns={'NomeFantasia':'nome_fantasia','Escritório de vendas':'escritorio_vendas','UF':'uf', 'Operadora':'operadora','Vlookup Bruto':'valor_bruto'})\n",
    "detalhamento_RO.head()"
   ]
  },
  {
   "cell_type": "code",
   "execution_count": 245,
   "metadata": {},
   "outputs": [
    {
     "data": {
      "text/html": [
       "<div>\n",
       "<style scoped>\n",
       "    .dataframe tbody tr th:only-of-type {\n",
       "        vertical-align: middle;\n",
       "    }\n",
       "\n",
       "    .dataframe tbody tr th {\n",
       "        vertical-align: top;\n",
       "    }\n",
       "\n",
       "    .dataframe thead th {\n",
       "        text-align: right;\n",
       "    }\n",
       "</style>\n",
       "<table border=\"1\" class=\"dataframe\">\n",
       "  <thead>\n",
       "    <tr style=\"text-align: right;\">\n",
       "      <th></th>\n",
       "      <th>nome_fantasia</th>\n",
       "      <th>escritorio_vendas</th>\n",
       "      <th>uf</th>\n",
       "      <th>operadora</th>\n",
       "      <th>valor_bruto</th>\n",
       "    </tr>\n",
       "  </thead>\n",
       "  <tbody>\n",
       "    <tr>\n",
       "      <th>0</th>\n",
       "      <td>BEMOL RIO BRANCO</td>\n",
       "      <td>401</td>\n",
       "      <td>AC</td>\n",
       "      <td>Claro</td>\n",
       "      <td>500</td>\n",
       "    </tr>\n",
       "    <tr>\n",
       "      <th>1</th>\n",
       "      <td>BEMOL RIO BRANCO</td>\n",
       "      <td>401</td>\n",
       "      <td>AC</td>\n",
       "      <td>Oi</td>\n",
       "      <td>375</td>\n",
       "    </tr>\n",
       "    <tr>\n",
       "      <th>2</th>\n",
       "      <td>BEMOL RIO BRANCO</td>\n",
       "      <td>401</td>\n",
       "      <td>AC</td>\n",
       "      <td>Tim</td>\n",
       "      <td>125</td>\n",
       "    </tr>\n",
       "    <tr>\n",
       "      <th>3</th>\n",
       "      <td>BEMOL RIO BRANCO</td>\n",
       "      <td>401</td>\n",
       "      <td>AC</td>\n",
       "      <td>Vivo</td>\n",
       "      <td>343</td>\n",
       "    </tr>\n",
       "  </tbody>\n",
       "</table>\n",
       "</div>"
      ],
      "text/plain": [
       "      nome_fantasia  escritorio_vendas  uf operadora  valor_bruto\n",
       "0  BEMOL RIO BRANCO                401  AC     Claro          500\n",
       "1  BEMOL RIO BRANCO                401  AC        Oi          375\n",
       "2  BEMOL RIO BRANCO                401  AC       Tim          125\n",
       "3  BEMOL RIO BRANCO                401  AC      Vivo          343"
      ]
     },
     "execution_count": 245,
     "metadata": {},
     "output_type": "execute_result"
    }
   ],
   "source": [
    "detalhamento_AC = detalhamento_AC.rename(columns={'NomeFantasia':'nome_fantasia','Escritório de vendas':'escritorio_vendas','UF':'uf', 'Operadora':'operadora','Valor Bruto':'valor_bruto'})\n",
    "detalhamento_AC.head()"
   ]
  },
  {
   "cell_type": "markdown",
   "metadata": {},
   "source": [
    "## Deletando colunas"
   ]
  },
  {
   "cell_type": "code",
   "execution_count": 246,
   "metadata": {},
   "outputs": [
    {
     "data": {
      "text/html": [
       "<div>\n",
       "<style scoped>\n",
       "    .dataframe tbody tr th:only-of-type {\n",
       "        vertical-align: middle;\n",
       "    }\n",
       "\n",
       "    .dataframe tbody tr th {\n",
       "        vertical-align: top;\n",
       "    }\n",
       "\n",
       "    .dataframe thead th {\n",
       "        text-align: right;\n",
       "    }\n",
       "</style>\n",
       "<table border=\"1\" class=\"dataframe\">\n",
       "  <thead>\n",
       "    <tr style=\"text-align: right;\">\n",
       "      <th></th>\n",
       "      <th>escritorio_vendas</th>\n",
       "      <th>operadora</th>\n",
       "      <th>valor_liquido</th>\n",
       "    </tr>\n",
       "  </thead>\n",
       "  <tbody>\n",
       "    <tr>\n",
       "      <th>0</th>\n",
       "      <td>101</td>\n",
       "      <td>Vivo</td>\n",
       "      <td>20.0</td>\n",
       "    </tr>\n",
       "    <tr>\n",
       "      <th>1</th>\n",
       "      <td>101</td>\n",
       "      <td>Vivo</td>\n",
       "      <td>10.0</td>\n",
       "    </tr>\n",
       "    <tr>\n",
       "      <th>2</th>\n",
       "      <td>101</td>\n",
       "      <td>Vivo</td>\n",
       "      <td>20.0</td>\n",
       "    </tr>\n",
       "    <tr>\n",
       "      <th>3</th>\n",
       "      <td>101</td>\n",
       "      <td>Vivo</td>\n",
       "      <td>10.0</td>\n",
       "    </tr>\n",
       "    <tr>\n",
       "      <th>4</th>\n",
       "      <td>101</td>\n",
       "      <td>Vivo</td>\n",
       "      <td>25.0</td>\n",
       "    </tr>\n",
       "  </tbody>\n",
       "</table>\n",
       "</div>"
      ],
      "text/plain": [
       "   escritorio_vendas operadora  valor_liquido\n",
       "0                101      Vivo           20.0\n",
       "1                101      Vivo           10.0\n",
       "2                101      Vivo           20.0\n",
       "3                101      Vivo           10.0\n",
       "4                101      Vivo           25.0"
      ]
     },
     "execution_count": 246,
     "metadata": {},
     "output_type": "execute_result"
    }
   ],
   "source": [
    "df_vendas.drop(['data', 'material'], axis = 1, inplace = True) \n",
    "df_vendas.head()"
   ]
  },
  {
   "cell_type": "code",
   "execution_count": 247,
   "metadata": {},
   "outputs": [],
   "source": [
    "detalhamento_AM.drop('uf', axis = 1, inplace = True) \n",
    "detalhamento_RR.drop('uf', axis = 1, inplace = True) \n",
    "detalhamento_RO.drop('uf', axis = 1, inplace = True) \n",
    "detalhamento_AC.drop('uf', axis = 1, inplace = True) "
   ]
  },
  {
   "cell_type": "markdown",
   "metadata": {},
   "source": [
    "## Verificando tipos de colunas"
   ]
  },
  {
   "cell_type": "code",
   "execution_count": 248,
   "metadata": {},
   "outputs": [
    {
     "data": {
      "text/plain": [
       "escritorio_vendas      int64\n",
       "operadora             object\n",
       "valor_liquido        float64\n",
       "dtype: object"
      ]
     },
     "execution_count": 248,
     "metadata": {},
     "output_type": "execute_result"
    }
   ],
   "source": [
    "df_vendas.dtypes"
   ]
  },
  {
   "cell_type": "code",
   "execution_count": 249,
   "metadata": {},
   "outputs": [
    {
     "data": {
      "text/plain": [
       "nome_fantasia        object\n",
       "escritorio_vendas     int64\n",
       "operadora            object\n",
       "valor_bruto           int64\n",
       "dtype: object"
      ]
     },
     "execution_count": 249,
     "metadata": {},
     "output_type": "execute_result"
    }
   ],
   "source": [
    "detalhamento_AM.dtypes"
   ]
  },
  {
   "cell_type": "code",
   "execution_count": 250,
   "metadata": {},
   "outputs": [
    {
     "data": {
      "text/plain": [
       "nome_fantasia        object\n",
       "escritorio_vendas     int64\n",
       "operadora            object\n",
       "valor_bruto           int64\n",
       "dtype: object"
      ]
     },
     "execution_count": 250,
     "metadata": {},
     "output_type": "execute_result"
    }
   ],
   "source": [
    "detalhamento_RR.dtypes"
   ]
  },
  {
   "cell_type": "code",
   "execution_count": 251,
   "metadata": {},
   "outputs": [
    {
     "data": {
      "text/plain": [
       "nome_fantasia        object\n",
       "escritorio_vendas     int64\n",
       "operadora            object\n",
       "valor_bruto           int64\n",
       "dtype: object"
      ]
     },
     "execution_count": 251,
     "metadata": {},
     "output_type": "execute_result"
    }
   ],
   "source": [
    "detalhamento_RO.dtypes"
   ]
  },
  {
   "cell_type": "code",
   "execution_count": 252,
   "metadata": {},
   "outputs": [
    {
     "data": {
      "text/plain": [
       "nome_fantasia        object\n",
       "escritorio_vendas     int64\n",
       "operadora            object\n",
       "valor_bruto           int64\n",
       "dtype: object"
      ]
     },
     "execution_count": 252,
     "metadata": {},
     "output_type": "execute_result"
    }
   ],
   "source": [
    "detalhamento_AC.dtypes"
   ]
  },
  {
   "cell_type": "markdown",
   "metadata": {},
   "source": [
    "## Alterando tipos de colunas"
   ]
  },
  {
   "cell_type": "code",
   "execution_count": 253,
   "metadata": {},
   "outputs": [],
   "source": [
    "detalhamento_AM['valor_bruto'] = detalhamento_AM['valor_bruto'].astype(float)\n",
    "detalhamento_RR['valor_bruto'] = detalhamento_RR['valor_bruto'].astype(float)\n",
    "detalhamento_RO['valor_bruto'] = detalhamento_RO['valor_bruto'].astype(float)\n",
    "detalhamento_AC['valor_bruto'] = detalhamento_AC['valor_bruto'].astype(float)"
   ]
  },
  {
   "cell_type": "markdown",
   "metadata": {},
   "source": [
    "# Concatenação de tabelas"
   ]
  },
  {
   "cell_type": "code",
   "execution_count": 254,
   "metadata": {},
   "outputs": [],
   "source": [
    "df_detalhamento = pd.concat([detalhamento_AM, detalhamento_RR, detalhamento_RO, detalhamento_AC])"
   ]
  },
  {
   "cell_type": "code",
   "execution_count": 255,
   "metadata": {},
   "outputs": [],
   "source": [
    "df_detalhamento.reset_index(drop=True, inplace=True)"
   ]
  },
  {
   "cell_type": "markdown",
   "metadata": {},
   "source": [
    "## Agrupando dados"
   ]
  },
  {
   "cell_type": "code",
   "execution_count": 256,
   "metadata": {},
   "outputs": [],
   "source": [
    "df_vendas = df_vendas.groupby(['escritorio_vendas', 'operadora']).agg({'valor_liquido':'sum'}).reset_index()"
   ]
  },
  {
   "cell_type": "code",
   "execution_count": 257,
   "metadata": {},
   "outputs": [],
   "source": [
    "df_detalhamento = df_detalhamento.groupby(['nome_fantasia','escritorio_vendas', 'operadora']).agg({'valor_bruto':'sum'}).reset_index()"
   ]
  },
  {
   "cell_type": "code",
   "execution_count": 258,
   "metadata": {},
   "outputs": [
    {
     "data": {
      "text/html": [
       "<div>\n",
       "<style scoped>\n",
       "    .dataframe tbody tr th:only-of-type {\n",
       "        vertical-align: middle;\n",
       "    }\n",
       "\n",
       "    .dataframe tbody tr th {\n",
       "        vertical-align: top;\n",
       "    }\n",
       "\n",
       "    .dataframe thead th {\n",
       "        text-align: right;\n",
       "    }\n",
       "</style>\n",
       "<table border=\"1\" class=\"dataframe\">\n",
       "  <thead>\n",
       "    <tr style=\"text-align: right;\">\n",
       "      <th></th>\n",
       "      <th>escritorio_vendas</th>\n",
       "      <th>operadora</th>\n",
       "      <th>valor_liquido</th>\n",
       "    </tr>\n",
       "  </thead>\n",
       "  <tbody>\n",
       "    <tr>\n",
       "      <th>0</th>\n",
       "      <td>101</td>\n",
       "      <td>Claro</td>\n",
       "      <td>1527.0</td>\n",
       "    </tr>\n",
       "    <tr>\n",
       "      <th>1</th>\n",
       "      <td>101</td>\n",
       "      <td>Oi</td>\n",
       "      <td>1730.0</td>\n",
       "    </tr>\n",
       "    <tr>\n",
       "      <th>2</th>\n",
       "      <td>101</td>\n",
       "      <td>Tim</td>\n",
       "      <td>975.0</td>\n",
       "    </tr>\n",
       "    <tr>\n",
       "      <th>3</th>\n",
       "      <td>101</td>\n",
       "      <td>Vivo</td>\n",
       "      <td>3142.0</td>\n",
       "    </tr>\n",
       "    <tr>\n",
       "      <th>4</th>\n",
       "      <td>103</td>\n",
       "      <td>Claro</td>\n",
       "      <td>2652.3</td>\n",
       "    </tr>\n",
       "    <tr>\n",
       "      <th>5</th>\n",
       "      <td>103</td>\n",
       "      <td>Oi</td>\n",
       "      <td>3309.0</td>\n",
       "    </tr>\n",
       "    <tr>\n",
       "      <th>6</th>\n",
       "      <td>103</td>\n",
       "      <td>Tim</td>\n",
       "      <td>1550.0</td>\n",
       "    </tr>\n",
       "    <tr>\n",
       "      <th>7</th>\n",
       "      <td>103</td>\n",
       "      <td>Vivo</td>\n",
       "      <td>4739.0</td>\n",
       "    </tr>\n",
       "    <tr>\n",
       "      <th>8</th>\n",
       "      <td>105</td>\n",
       "      <td>Claro</td>\n",
       "      <td>720.0</td>\n",
       "    </tr>\n",
       "    <tr>\n",
       "      <th>9</th>\n",
       "      <td>105</td>\n",
       "      <td>Oi</td>\n",
       "      <td>2030.0</td>\n",
       "    </tr>\n",
       "  </tbody>\n",
       "</table>\n",
       "</div>"
      ],
      "text/plain": [
       "   escritorio_vendas operadora  valor_liquido\n",
       "0                101     Claro         1527.0\n",
       "1                101        Oi         1730.0\n",
       "2                101       Tim          975.0\n",
       "3                101      Vivo         3142.0\n",
       "4                103     Claro         2652.3\n",
       "5                103        Oi         3309.0\n",
       "6                103       Tim         1550.0\n",
       "7                103      Vivo         4739.0\n",
       "8                105     Claro          720.0\n",
       "9                105        Oi         2030.0"
      ]
     },
     "execution_count": 258,
     "metadata": {},
     "output_type": "execute_result"
    }
   ],
   "source": [
    "df_vendas.head(10)"
   ]
  },
  {
   "cell_type": "code",
   "execution_count": 259,
   "metadata": {},
   "outputs": [
    {
     "data": {
      "text/html": [
       "<div>\n",
       "<style scoped>\n",
       "    .dataframe tbody tr th:only-of-type {\n",
       "        vertical-align: middle;\n",
       "    }\n",
       "\n",
       "    .dataframe tbody tr th {\n",
       "        vertical-align: top;\n",
       "    }\n",
       "\n",
       "    .dataframe thead th {\n",
       "        text-align: right;\n",
       "    }\n",
       "</style>\n",
       "<table border=\"1\" class=\"dataframe\">\n",
       "  <thead>\n",
       "    <tr style=\"text-align: right;\">\n",
       "      <th></th>\n",
       "      <th>nome_fantasia</th>\n",
       "      <th>escritorio_vendas</th>\n",
       "      <th>operadora</th>\n",
       "      <th>valor_bruto</th>\n",
       "    </tr>\n",
       "  </thead>\n",
       "  <tbody>\n",
       "    <tr>\n",
       "      <th>0</th>\n",
       "      <td>BEMOL AVENIDA</td>\n",
       "      <td>103</td>\n",
       "      <td>Claro</td>\n",
       "      <td>2651.0</td>\n",
       "    </tr>\n",
       "    <tr>\n",
       "      <th>1</th>\n",
       "      <td>BEMOL AVENIDA</td>\n",
       "      <td>103</td>\n",
       "      <td>Oi</td>\n",
       "      <td>3309.0</td>\n",
       "    </tr>\n",
       "    <tr>\n",
       "      <th>2</th>\n",
       "      <td>BEMOL AVENIDA</td>\n",
       "      <td>103</td>\n",
       "      <td>Tim</td>\n",
       "      <td>1550.0</td>\n",
       "    </tr>\n",
       "    <tr>\n",
       "      <th>3</th>\n",
       "      <td>BEMOL AVENIDA</td>\n",
       "      <td>103</td>\n",
       "      <td>Vivo</td>\n",
       "      <td>4739.0</td>\n",
       "    </tr>\n",
       "    <tr>\n",
       "      <th>4</th>\n",
       "      <td>BEMOL BARROSO</td>\n",
       "      <td>107</td>\n",
       "      <td>Claro</td>\n",
       "      <td>1495.0</td>\n",
       "    </tr>\n",
       "    <tr>\n",
       "      <th>5</th>\n",
       "      <td>BEMOL BARROSO</td>\n",
       "      <td>107</td>\n",
       "      <td>Oi</td>\n",
       "      <td>1925.0</td>\n",
       "    </tr>\n",
       "    <tr>\n",
       "      <th>6</th>\n",
       "      <td>BEMOL BARROSO</td>\n",
       "      <td>107</td>\n",
       "      <td>Tim</td>\n",
       "      <td>1700.0</td>\n",
       "    </tr>\n",
       "    <tr>\n",
       "      <th>7</th>\n",
       "      <td>BEMOL BARROSO</td>\n",
       "      <td>107</td>\n",
       "      <td>Vivo</td>\n",
       "      <td>2944.0</td>\n",
       "    </tr>\n",
       "    <tr>\n",
       "      <th>8</th>\n",
       "      <td>BEMOL BOA VISTA</td>\n",
       "      <td>701</td>\n",
       "      <td>Claro</td>\n",
       "      <td>140.0</td>\n",
       "    </tr>\n",
       "    <tr>\n",
       "      <th>9</th>\n",
       "      <td>BEMOL BOA VISTA</td>\n",
       "      <td>701</td>\n",
       "      <td>Oi</td>\n",
       "      <td>20.0</td>\n",
       "    </tr>\n",
       "  </tbody>\n",
       "</table>\n",
       "</div>"
      ],
      "text/plain": [
       "     nome_fantasia  escritorio_vendas operadora  valor_bruto\n",
       "0    BEMOL AVENIDA                103     Claro       2651.0\n",
       "1    BEMOL AVENIDA                103        Oi       3309.0\n",
       "2    BEMOL AVENIDA                103       Tim       1550.0\n",
       "3    BEMOL AVENIDA                103      Vivo       4739.0\n",
       "4    BEMOL BARROSO                107     Claro       1495.0\n",
       "5    BEMOL BARROSO                107        Oi       1925.0\n",
       "6    BEMOL BARROSO                107       Tim       1700.0\n",
       "7    BEMOL BARROSO                107      Vivo       2944.0\n",
       "8  BEMOL BOA VISTA                701     Claro        140.0\n",
       "9  BEMOL BOA VISTA                701        Oi         20.0"
      ]
     },
     "execution_count": 259,
     "metadata": {},
     "output_type": "execute_result"
    }
   ],
   "source": [
    "df_detalhamento.head(10)"
   ]
  },
  {
   "cell_type": "markdown",
   "metadata": {},
   "source": [
    "# Correlação de tabelas"
   ]
  },
  {
   "cell_type": "code",
   "execution_count": 260,
   "metadata": {},
   "outputs": [],
   "source": [
    "df_relatorio = pd.merge(df_vendas, df_detalhamento, on = ['escritorio_vendas', 'operadora'], how ='left')"
   ]
  },
  {
   "cell_type": "code",
   "execution_count": 261,
   "metadata": {},
   "outputs": [
    {
     "data": {
      "text/html": [
       "<div>\n",
       "<style scoped>\n",
       "    .dataframe tbody tr th:only-of-type {\n",
       "        vertical-align: middle;\n",
       "    }\n",
       "\n",
       "    .dataframe tbody tr th {\n",
       "        vertical-align: top;\n",
       "    }\n",
       "\n",
       "    .dataframe thead th {\n",
       "        text-align: right;\n",
       "    }\n",
       "</style>\n",
       "<table border=\"1\" class=\"dataframe\">\n",
       "  <thead>\n",
       "    <tr style=\"text-align: right;\">\n",
       "      <th></th>\n",
       "      <th>escritorio_vendas</th>\n",
       "      <th>operadora</th>\n",
       "      <th>valor_liquido</th>\n",
       "      <th>nome_fantasia</th>\n",
       "      <th>valor_bruto</th>\n",
       "    </tr>\n",
       "  </thead>\n",
       "  <tbody>\n",
       "    <tr>\n",
       "      <th>0</th>\n",
       "      <td>101</td>\n",
       "      <td>Claro</td>\n",
       "      <td>1527.0</td>\n",
       "      <td>BEMOL MATRIZ</td>\n",
       "      <td>1527.0</td>\n",
       "    </tr>\n",
       "    <tr>\n",
       "      <th>1</th>\n",
       "      <td>101</td>\n",
       "      <td>Oi</td>\n",
       "      <td>1730.0</td>\n",
       "      <td>BEMOL MATRIZ</td>\n",
       "      <td>1730.0</td>\n",
       "    </tr>\n",
       "    <tr>\n",
       "      <th>2</th>\n",
       "      <td>101</td>\n",
       "      <td>Tim</td>\n",
       "      <td>975.0</td>\n",
       "      <td>BEMOL MATRIZ</td>\n",
       "      <td>975.0</td>\n",
       "    </tr>\n",
       "    <tr>\n",
       "      <th>3</th>\n",
       "      <td>101</td>\n",
       "      <td>Vivo</td>\n",
       "      <td>3142.0</td>\n",
       "      <td>BEMOL MATRIZ</td>\n",
       "      <td>3142.0</td>\n",
       "    </tr>\n",
       "    <tr>\n",
       "      <th>4</th>\n",
       "      <td>103</td>\n",
       "      <td>Claro</td>\n",
       "      <td>2652.3</td>\n",
       "      <td>BEMOL AVENIDA</td>\n",
       "      <td>2651.0</td>\n",
       "    </tr>\n",
       "    <tr>\n",
       "      <th>5</th>\n",
       "      <td>103</td>\n",
       "      <td>Oi</td>\n",
       "      <td>3309.0</td>\n",
       "      <td>BEMOL AVENIDA</td>\n",
       "      <td>3309.0</td>\n",
       "    </tr>\n",
       "    <tr>\n",
       "      <th>6</th>\n",
       "      <td>103</td>\n",
       "      <td>Tim</td>\n",
       "      <td>1550.0</td>\n",
       "      <td>BEMOL AVENIDA</td>\n",
       "      <td>1550.0</td>\n",
       "    </tr>\n",
       "    <tr>\n",
       "      <th>7</th>\n",
       "      <td>103</td>\n",
       "      <td>Vivo</td>\n",
       "      <td>4739.0</td>\n",
       "      <td>BEMOL AVENIDA</td>\n",
       "      <td>4739.0</td>\n",
       "    </tr>\n",
       "    <tr>\n",
       "      <th>8</th>\n",
       "      <td>105</td>\n",
       "      <td>Claro</td>\n",
       "      <td>720.0</td>\n",
       "      <td>BEMOL EDUCANDOS</td>\n",
       "      <td>720.0</td>\n",
       "    </tr>\n",
       "    <tr>\n",
       "      <th>9</th>\n",
       "      <td>105</td>\n",
       "      <td>Oi</td>\n",
       "      <td>2030.0</td>\n",
       "      <td>BEMOL EDUCANDOS</td>\n",
       "      <td>2030.0</td>\n",
       "    </tr>\n",
       "  </tbody>\n",
       "</table>\n",
       "</div>"
      ],
      "text/plain": [
       "   escritorio_vendas operadora  valor_liquido    nome_fantasia  valor_bruto\n",
       "0                101     Claro         1527.0     BEMOL MATRIZ       1527.0\n",
       "1                101        Oi         1730.0     BEMOL MATRIZ       1730.0\n",
       "2                101       Tim          975.0     BEMOL MATRIZ        975.0\n",
       "3                101      Vivo         3142.0     BEMOL MATRIZ       3142.0\n",
       "4                103     Claro         2652.3    BEMOL AVENIDA       2651.0\n",
       "5                103        Oi         3309.0    BEMOL AVENIDA       3309.0\n",
       "6                103       Tim         1550.0    BEMOL AVENIDA       1550.0\n",
       "7                103      Vivo         4739.0    BEMOL AVENIDA       4739.0\n",
       "8                105     Claro          720.0  BEMOL EDUCANDOS        720.0\n",
       "9                105        Oi         2030.0  BEMOL EDUCANDOS       2030.0"
      ]
     },
     "execution_count": 261,
     "metadata": {},
     "output_type": "execute_result"
    }
   ],
   "source": [
    "df_relatorio.head(10)"
   ]
  },
  {
   "cell_type": "markdown",
   "metadata": {},
   "source": [
    "## Tratamento pós-correlação"
   ]
  },
  {
   "cell_type": "code",
   "execution_count": 262,
   "metadata": {},
   "outputs": [
    {
     "data": {
      "text/html": [
       "<div>\n",
       "<style scoped>\n",
       "    .dataframe tbody tr th:only-of-type {\n",
       "        vertical-align: middle;\n",
       "    }\n",
       "\n",
       "    .dataframe tbody tr th {\n",
       "        vertical-align: top;\n",
       "    }\n",
       "\n",
       "    .dataframe thead th {\n",
       "        text-align: right;\n",
       "    }\n",
       "</style>\n",
       "<table border=\"1\" class=\"dataframe\">\n",
       "  <thead>\n",
       "    <tr style=\"text-align: right;\">\n",
       "      <th></th>\n",
       "      <th>escritorio_vendas</th>\n",
       "      <th>operadora</th>\n",
       "      <th>valor_liquido</th>\n",
       "      <th>nome_fantasia</th>\n",
       "      <th>valor_bruto</th>\n",
       "    </tr>\n",
       "  </thead>\n",
       "  <tbody>\n",
       "    <tr>\n",
       "      <th>141</th>\n",
       "      <td>614</td>\n",
       "      <td>Tim</td>\n",
       "      <td>10.0</td>\n",
       "      <td>NaN</td>\n",
       "      <td>NaN</td>\n",
       "    </tr>\n",
       "  </tbody>\n",
       "</table>\n",
       "</div>"
      ],
      "text/plain": [
       "     escritorio_vendas operadora  valor_liquido nome_fantasia  valor_bruto\n",
       "141                614       Tim           10.0           NaN          NaN"
      ]
     },
     "execution_count": 262,
     "metadata": {},
     "output_type": "execute_result"
    }
   ],
   "source": [
    "#Verificando se as colunas tem valores NaN\n",
    "df_relatorio[df_relatorio['valor_bruto'].isna()]"
   ]
  },
  {
   "cell_type": "code",
   "execution_count": 263,
   "metadata": {},
   "outputs": [
    {
     "data": {
      "text/html": [
       "<div>\n",
       "<style scoped>\n",
       "    .dataframe tbody tr th:only-of-type {\n",
       "        vertical-align: middle;\n",
       "    }\n",
       "\n",
       "    .dataframe tbody tr th {\n",
       "        vertical-align: top;\n",
       "    }\n",
       "\n",
       "    .dataframe thead th {\n",
       "        text-align: right;\n",
       "    }\n",
       "</style>\n",
       "<table border=\"1\" class=\"dataframe\">\n",
       "  <thead>\n",
       "    <tr style=\"text-align: right;\">\n",
       "      <th></th>\n",
       "      <th>escritorio_vendas</th>\n",
       "      <th>operadora</th>\n",
       "      <th>valor_liquido</th>\n",
       "      <th>nome_fantasia</th>\n",
       "      <th>valor_bruto</th>\n",
       "    </tr>\n",
       "  </thead>\n",
       "  <tbody>\n",
       "  </tbody>\n",
       "</table>\n",
       "</div>"
      ],
      "text/plain": [
       "Empty DataFrame\n",
       "Columns: [escritorio_vendas, operadora, valor_liquido, nome_fantasia, valor_bruto]\n",
       "Index: []"
      ]
     },
     "execution_count": 263,
     "metadata": {},
     "output_type": "execute_result"
    }
   ],
   "source": [
    "#Verificando se as colunas tem valores NaN\n",
    "df_relatorio[df_relatorio['valor_liquido'].isna()]"
   ]
  },
  {
   "cell_type": "code",
   "execution_count": 264,
   "metadata": {},
   "outputs": [
    {
     "data": {
      "text/html": [
       "<div>\n",
       "<style scoped>\n",
       "    .dataframe tbody tr th:only-of-type {\n",
       "        vertical-align: middle;\n",
       "    }\n",
       "\n",
       "    .dataframe tbody tr th {\n",
       "        vertical-align: top;\n",
       "    }\n",
       "\n",
       "    .dataframe thead th {\n",
       "        text-align: right;\n",
       "    }\n",
       "</style>\n",
       "<table border=\"1\" class=\"dataframe\">\n",
       "  <thead>\n",
       "    <tr style=\"text-align: right;\">\n",
       "      <th></th>\n",
       "      <th>escritorio_vendas</th>\n",
       "      <th>operadora</th>\n",
       "      <th>valor_liquido</th>\n",
       "      <th>nome_fantasia</th>\n",
       "      <th>valor_bruto</th>\n",
       "    </tr>\n",
       "  </thead>\n",
       "  <tbody>\n",
       "  </tbody>\n",
       "</table>\n",
       "</div>"
      ],
      "text/plain": [
       "Empty DataFrame\n",
       "Columns: [escritorio_vendas, operadora, valor_liquido, nome_fantasia, valor_bruto]\n",
       "Index: []"
      ]
     },
     "execution_count": 264,
     "metadata": {},
     "output_type": "execute_result"
    }
   ],
   "source": [
    "#Verificando se as colunas tem valores NaN\n",
    "df_relatorio[df_relatorio['operadora'].isna()]"
   ]
  },
  {
   "cell_type": "code",
   "execution_count": 265,
   "metadata": {},
   "outputs": [
    {
     "data": {
      "text/html": [
       "<div>\n",
       "<style scoped>\n",
       "    .dataframe tbody tr th:only-of-type {\n",
       "        vertical-align: middle;\n",
       "    }\n",
       "\n",
       "    .dataframe tbody tr th {\n",
       "        vertical-align: top;\n",
       "    }\n",
       "\n",
       "    .dataframe thead th {\n",
       "        text-align: right;\n",
       "    }\n",
       "</style>\n",
       "<table border=\"1\" class=\"dataframe\">\n",
       "  <thead>\n",
       "    <tr style=\"text-align: right;\">\n",
       "      <th></th>\n",
       "      <th>escritorio_vendas</th>\n",
       "      <th>operadora</th>\n",
       "      <th>valor_liquido</th>\n",
       "      <th>nome_fantasia</th>\n",
       "      <th>valor_bruto</th>\n",
       "    </tr>\n",
       "  </thead>\n",
       "  <tbody>\n",
       "  </tbody>\n",
       "</table>\n",
       "</div>"
      ],
      "text/plain": [
       "Empty DataFrame\n",
       "Columns: [escritorio_vendas, operadora, valor_liquido, nome_fantasia, valor_bruto]\n",
       "Index: []"
      ]
     },
     "execution_count": 265,
     "metadata": {},
     "output_type": "execute_result"
    }
   ],
   "source": [
    "#Verificando se as colunas tem valores NaN\n",
    "df_relatorio[df_relatorio['escritorio_vendas'].isna()]"
   ]
  },
  {
   "cell_type": "code",
   "execution_count": 266,
   "metadata": {},
   "outputs": [],
   "source": [
    "#Preenchendo os valores NaN da coluna 'valor_bruto'\n",
    "df_relatorio['valor_bruto'] = df_relatorio['valor_bruto'].fillna(0)"
   ]
  },
  {
   "cell_type": "code",
   "execution_count": 267,
   "metadata": {},
   "outputs": [
    {
     "data": {
      "text/html": [
       "<div>\n",
       "<style scoped>\n",
       "    .dataframe tbody tr th:only-of-type {\n",
       "        vertical-align: middle;\n",
       "    }\n",
       "\n",
       "    .dataframe tbody tr th {\n",
       "        vertical-align: top;\n",
       "    }\n",
       "\n",
       "    .dataframe thead th {\n",
       "        text-align: right;\n",
       "    }\n",
       "</style>\n",
       "<table border=\"1\" class=\"dataframe\">\n",
       "  <thead>\n",
       "    <tr style=\"text-align: right;\">\n",
       "      <th></th>\n",
       "      <th>escritorio_vendas</th>\n",
       "      <th>operadora</th>\n",
       "      <th>valor_liquido</th>\n",
       "      <th>nome_fantasia</th>\n",
       "      <th>valor_bruto</th>\n",
       "    </tr>\n",
       "  </thead>\n",
       "  <tbody>\n",
       "    <tr>\n",
       "      <th>141</th>\n",
       "      <td>614</td>\n",
       "      <td>Tim</td>\n",
       "      <td>10.0</td>\n",
       "      <td>NaN</td>\n",
       "      <td>0.0</td>\n",
       "    </tr>\n",
       "  </tbody>\n",
       "</table>\n",
       "</div>"
      ],
      "text/plain": [
       "     escritorio_vendas operadora  valor_liquido nome_fantasia  valor_bruto\n",
       "141                614       Tim           10.0           NaN          0.0"
      ]
     },
     "execution_count": 267,
     "metadata": {},
     "output_type": "execute_result"
    }
   ],
   "source": [
    "df_relatorio[df_relatorio['nome_fantasia'].isna()]"
   ]
  },
  {
   "cell_type": "code",
   "execution_count": 268,
   "metadata": {},
   "outputs": [
    {
     "data": {
      "text/plain": [
       "139    BEMOL FARMA PRESIDENTE FIGUEIREDO\n",
       "140    BEMOL FARMA PRESIDENTE FIGUEIREDO\n",
       "141                                  NaN\n",
       "142    BEMOL FARMA PRESIDENTE FIGUEIREDO\n",
       "Name: nome_fantasia, dtype: object"
      ]
     },
     "execution_count": 268,
     "metadata": {},
     "output_type": "execute_result"
    }
   ],
   "source": [
    "#Encontrando o nome_fantasia pelo valor da 'escritorio_vendas'\n",
    "df_relatorio['nome_fantasia'][df_relatorio['escritorio_vendas'] == 614]"
   ]
  },
  {
   "cell_type": "code",
   "execution_count": 269,
   "metadata": {},
   "outputs": [],
   "source": [
    "#Preenchendo os valores NaN da coluna 'nome_fantasia'\n",
    "df_relatorio['nome_fantasia'] = df_relatorio['nome_fantasia'].fillna('BEMOL FARMA PRESIDENTE FIGUEIREDO')"
   ]
  },
  {
   "cell_type": "markdown",
   "metadata": {},
   "source": [
    "# Regra de negócio"
   ]
  },
  {
   "cell_type": "markdown",
   "metadata": {},
   "source": [
    "## Operações entre colunas sem condicional"
   ]
  },
  {
   "cell_type": "code",
   "execution_count": 271,
   "metadata": {},
   "outputs": [
    {
     "data": {
      "text/html": [
       "<div>\n",
       "<style scoped>\n",
       "    .dataframe tbody tr th:only-of-type {\n",
       "        vertical-align: middle;\n",
       "    }\n",
       "\n",
       "    .dataframe tbody tr th {\n",
       "        vertical-align: top;\n",
       "    }\n",
       "\n",
       "    .dataframe thead th {\n",
       "        text-align: right;\n",
       "    }\n",
       "</style>\n",
       "<table border=\"1\" class=\"dataframe\">\n",
       "  <thead>\n",
       "    <tr style=\"text-align: right;\">\n",
       "      <th></th>\n",
       "      <th>escritorio_vendas</th>\n",
       "      <th>operadora</th>\n",
       "      <th>valor_liquido</th>\n",
       "      <th>nome_fantasia</th>\n",
       "      <th>valor_bruto</th>\n",
       "    </tr>\n",
       "  </thead>\n",
       "  <tbody>\n",
       "    <tr>\n",
       "      <th>0</th>\n",
       "      <td>101</td>\n",
       "      <td>Claro</td>\n",
       "      <td>1527.0</td>\n",
       "      <td>BEMOL MATRIZ</td>\n",
       "      <td>1527.0</td>\n",
       "    </tr>\n",
       "    <tr>\n",
       "      <th>1</th>\n",
       "      <td>101</td>\n",
       "      <td>Oi</td>\n",
       "      <td>1730.0</td>\n",
       "      <td>BEMOL MATRIZ</td>\n",
       "      <td>1730.0</td>\n",
       "    </tr>\n",
       "    <tr>\n",
       "      <th>2</th>\n",
       "      <td>101</td>\n",
       "      <td>Tim</td>\n",
       "      <td>975.0</td>\n",
       "      <td>BEMOL MATRIZ</td>\n",
       "      <td>975.0</td>\n",
       "    </tr>\n",
       "    <tr>\n",
       "      <th>3</th>\n",
       "      <td>101</td>\n",
       "      <td>Vivo</td>\n",
       "      <td>3142.0</td>\n",
       "      <td>BEMOL MATRIZ</td>\n",
       "      <td>3142.0</td>\n",
       "    </tr>\n",
       "    <tr>\n",
       "      <th>4</th>\n",
       "      <td>103</td>\n",
       "      <td>Claro</td>\n",
       "      <td>2652.3</td>\n",
       "      <td>BEMOL AVENIDA</td>\n",
       "      <td>2651.0</td>\n",
       "    </tr>\n",
       "  </tbody>\n",
       "</table>\n",
       "</div>"
      ],
      "text/plain": [
       "   escritorio_vendas operadora  valor_liquido  nome_fantasia  valor_bruto\n",
       "0                101     Claro         1527.0   BEMOL MATRIZ       1527.0\n",
       "1                101        Oi         1730.0   BEMOL MATRIZ       1730.0\n",
       "2                101       Tim          975.0   BEMOL MATRIZ        975.0\n",
       "3                101      Vivo         3142.0   BEMOL MATRIZ       3142.0\n",
       "4                103     Claro         2652.3  BEMOL AVENIDA       2651.0"
      ]
     },
     "execution_count": 271,
     "metadata": {},
     "output_type": "execute_result"
    }
   ],
   "source": [
    "df_relatorio.head()"
   ]
  },
  {
   "cell_type": "code",
   "execution_count": 274,
   "metadata": {},
   "outputs": [
    {
     "data": {
      "text/html": [
       "<div>\n",
       "<style scoped>\n",
       "    .dataframe tbody tr th:only-of-type {\n",
       "        vertical-align: middle;\n",
       "    }\n",
       "\n",
       "    .dataframe tbody tr th {\n",
       "        vertical-align: top;\n",
       "    }\n",
       "\n",
       "    .dataframe thead th {\n",
       "        text-align: right;\n",
       "    }\n",
       "</style>\n",
       "<table border=\"1\" class=\"dataframe\">\n",
       "  <thead>\n",
       "    <tr style=\"text-align: right;\">\n",
       "      <th></th>\n",
       "      <th>nome_fantasia</th>\n",
       "      <th>operadora</th>\n",
       "      <th>valor_liquido</th>\n",
       "      <th>valor_bruto</th>\n",
       "    </tr>\n",
       "  </thead>\n",
       "  <tbody>\n",
       "    <tr>\n",
       "      <th>0</th>\n",
       "      <td>BEMOL MATRIZ</td>\n",
       "      <td>Claro</td>\n",
       "      <td>1527.0</td>\n",
       "      <td>1527.0</td>\n",
       "    </tr>\n",
       "    <tr>\n",
       "      <th>1</th>\n",
       "      <td>BEMOL MATRIZ</td>\n",
       "      <td>Oi</td>\n",
       "      <td>1730.0</td>\n",
       "      <td>1730.0</td>\n",
       "    </tr>\n",
       "    <tr>\n",
       "      <th>2</th>\n",
       "      <td>BEMOL MATRIZ</td>\n",
       "      <td>Tim</td>\n",
       "      <td>975.0</td>\n",
       "      <td>975.0</td>\n",
       "    </tr>\n",
       "    <tr>\n",
       "      <th>3</th>\n",
       "      <td>BEMOL MATRIZ</td>\n",
       "      <td>Vivo</td>\n",
       "      <td>3142.0</td>\n",
       "      <td>3142.0</td>\n",
       "    </tr>\n",
       "    <tr>\n",
       "      <th>4</th>\n",
       "      <td>BEMOL AVENIDA</td>\n",
       "      <td>Claro</td>\n",
       "      <td>2652.3</td>\n",
       "      <td>2651.0</td>\n",
       "    </tr>\n",
       "    <tr>\n",
       "      <th>5</th>\n",
       "      <td>BEMOL AVENIDA</td>\n",
       "      <td>Oi</td>\n",
       "      <td>3309.0</td>\n",
       "      <td>3309.0</td>\n",
       "    </tr>\n",
       "    <tr>\n",
       "      <th>6</th>\n",
       "      <td>BEMOL AVENIDA</td>\n",
       "      <td>Tim</td>\n",
       "      <td>1550.0</td>\n",
       "      <td>1550.0</td>\n",
       "    </tr>\n",
       "    <tr>\n",
       "      <th>7</th>\n",
       "      <td>BEMOL AVENIDA</td>\n",
       "      <td>Vivo</td>\n",
       "      <td>4739.0</td>\n",
       "      <td>4739.0</td>\n",
       "    </tr>\n",
       "    <tr>\n",
       "      <th>8</th>\n",
       "      <td>BEMOL EDUCANDOS</td>\n",
       "      <td>Claro</td>\n",
       "      <td>720.0</td>\n",
       "      <td>720.0</td>\n",
       "    </tr>\n",
       "    <tr>\n",
       "      <th>9</th>\n",
       "      <td>BEMOL EDUCANDOS</td>\n",
       "      <td>Oi</td>\n",
       "      <td>2030.0</td>\n",
       "      <td>2030.0</td>\n",
       "    </tr>\n",
       "  </tbody>\n",
       "</table>\n",
       "</div>"
      ],
      "text/plain": [
       "     nome_fantasia operadora  valor_liquido  valor_bruto\n",
       "0     BEMOL MATRIZ     Claro         1527.0       1527.0\n",
       "1     BEMOL MATRIZ        Oi         1730.0       1730.0\n",
       "2     BEMOL MATRIZ       Tim          975.0        975.0\n",
       "3     BEMOL MATRIZ      Vivo         3142.0       3142.0\n",
       "4    BEMOL AVENIDA     Claro         2652.3       2651.0\n",
       "5    BEMOL AVENIDA        Oi         3309.0       3309.0\n",
       "6    BEMOL AVENIDA       Tim         1550.0       1550.0\n",
       "7    BEMOL AVENIDA      Vivo         4739.0       4739.0\n",
       "8  BEMOL EDUCANDOS     Claro          720.0        720.0\n",
       "9  BEMOL EDUCANDOS        Oi         2030.0       2030.0"
      ]
     },
     "execution_count": 274,
     "metadata": {},
     "output_type": "execute_result"
    }
   ],
   "source": [
    "df_relatorio = df_relatorio[['nome_fantasia','operadora','valor_liquido','valor_bruto']]\n",
    "df_relatorio.head(10)"
   ]
  },
  {
   "cell_type": "markdown",
   "metadata": {},
   "source": [
    "## Operações entre colunas com condicional"
   ]
  },
  {
   "cell_type": "code",
   "execution_count": 279,
   "metadata": {},
   "outputs": [],
   "source": [
    "def verifica_status(valor_liquido, valor_bruto):\n",
    "        if(valor_liquido != valor_bruto):\n",
    "            return 'alerta'\n",
    "\n",
    "df_relatorio['status'] = df_relatorio.apply(lambda row: verifica_status(row['valor_liquido'], row['valor_bruto']), axis = 1)"
   ]
  },
  {
   "cell_type": "code",
   "execution_count": 280,
   "metadata": {},
   "outputs": [
    {
     "data": {
      "text/html": [
       "<div>\n",
       "<style scoped>\n",
       "    .dataframe tbody tr th:only-of-type {\n",
       "        vertical-align: middle;\n",
       "    }\n",
       "\n",
       "    .dataframe tbody tr th {\n",
       "        vertical-align: top;\n",
       "    }\n",
       "\n",
       "    .dataframe thead th {\n",
       "        text-align: right;\n",
       "    }\n",
       "</style>\n",
       "<table border=\"1\" class=\"dataframe\">\n",
       "  <thead>\n",
       "    <tr style=\"text-align: right;\">\n",
       "      <th></th>\n",
       "      <th>nome_fantasia</th>\n",
       "      <th>operadora</th>\n",
       "      <th>valor_liquido</th>\n",
       "      <th>valor_bruto</th>\n",
       "      <th>status</th>\n",
       "    </tr>\n",
       "  </thead>\n",
       "  <tbody>\n",
       "    <tr>\n",
       "      <th>0</th>\n",
       "      <td>BEMOL MATRIZ</td>\n",
       "      <td>Claro</td>\n",
       "      <td>1527.0</td>\n",
       "      <td>1527.0</td>\n",
       "      <td>None</td>\n",
       "    </tr>\n",
       "    <tr>\n",
       "      <th>1</th>\n",
       "      <td>BEMOL MATRIZ</td>\n",
       "      <td>Oi</td>\n",
       "      <td>1730.0</td>\n",
       "      <td>1730.0</td>\n",
       "      <td>None</td>\n",
       "    </tr>\n",
       "    <tr>\n",
       "      <th>2</th>\n",
       "      <td>BEMOL MATRIZ</td>\n",
       "      <td>Tim</td>\n",
       "      <td>975.0</td>\n",
       "      <td>975.0</td>\n",
       "      <td>None</td>\n",
       "    </tr>\n",
       "    <tr>\n",
       "      <th>3</th>\n",
       "      <td>BEMOL MATRIZ</td>\n",
       "      <td>Vivo</td>\n",
       "      <td>3142.0</td>\n",
       "      <td>3142.0</td>\n",
       "      <td>None</td>\n",
       "    </tr>\n",
       "    <tr>\n",
       "      <th>4</th>\n",
       "      <td>BEMOL AVENIDA</td>\n",
       "      <td>Claro</td>\n",
       "      <td>2652.3</td>\n",
       "      <td>2651.0</td>\n",
       "      <td>alerta</td>\n",
       "    </tr>\n",
       "    <tr>\n",
       "      <th>...</th>\n",
       "      <td>...</td>\n",
       "      <td>...</td>\n",
       "      <td>...</td>\n",
       "      <td>...</td>\n",
       "      <td>...</td>\n",
       "    </tr>\n",
       "    <tr>\n",
       "      <th>158</th>\n",
       "      <td>BEMOL FARMA STUDIO 5</td>\n",
       "      <td>Vivo</td>\n",
       "      <td>561.0</td>\n",
       "      <td>380.0</td>\n",
       "      <td>alerta</td>\n",
       "    </tr>\n",
       "    <tr>\n",
       "      <th>159</th>\n",
       "      <td>BEMOL BOA VISTA</td>\n",
       "      <td>Claro</td>\n",
       "      <td>140.0</td>\n",
       "      <td>140.0</td>\n",
       "      <td>None</td>\n",
       "    </tr>\n",
       "    <tr>\n",
       "      <th>160</th>\n",
       "      <td>BEMOL BOA VISTA</td>\n",
       "      <td>Oi</td>\n",
       "      <td>20.0</td>\n",
       "      <td>20.0</td>\n",
       "      <td>None</td>\n",
       "    </tr>\n",
       "    <tr>\n",
       "      <th>161</th>\n",
       "      <td>BEMOL BOA VISTA</td>\n",
       "      <td>Tim</td>\n",
       "      <td>135.0</td>\n",
       "      <td>135.0</td>\n",
       "      <td>None</td>\n",
       "    </tr>\n",
       "    <tr>\n",
       "      <th>162</th>\n",
       "      <td>BEMOL BOA VISTA</td>\n",
       "      <td>Vivo</td>\n",
       "      <td>304.0</td>\n",
       "      <td>304.0</td>\n",
       "      <td>None</td>\n",
       "    </tr>\n",
       "  </tbody>\n",
       "</table>\n",
       "<p>163 rows × 5 columns</p>\n",
       "</div>"
      ],
      "text/plain": [
       "            nome_fantasia operadora  valor_liquido  valor_bruto  status\n",
       "0            BEMOL MATRIZ     Claro         1527.0       1527.0    None\n",
       "1            BEMOL MATRIZ        Oi         1730.0       1730.0    None\n",
       "2            BEMOL MATRIZ       Tim          975.0        975.0    None\n",
       "3            BEMOL MATRIZ      Vivo         3142.0       3142.0    None\n",
       "4           BEMOL AVENIDA     Claro         2652.3       2651.0  alerta\n",
       "..                    ...       ...            ...          ...     ...\n",
       "158  BEMOL FARMA STUDIO 5      Vivo          561.0        380.0  alerta\n",
       "159       BEMOL BOA VISTA     Claro          140.0        140.0    None\n",
       "160       BEMOL BOA VISTA        Oi           20.0         20.0    None\n",
       "161       BEMOL BOA VISTA       Tim          135.0        135.0    None\n",
       "162       BEMOL BOA VISTA      Vivo          304.0        304.0    None\n",
       "\n",
       "[163 rows x 5 columns]"
      ]
     },
     "execution_count": 280,
     "metadata": {},
     "output_type": "execute_result"
    }
   ],
   "source": [
    "df_relatorio"
   ]
  },
  {
   "cell_type": "markdown",
   "metadata": {},
   "source": [
    "# Exportando Dados"
   ]
  },
  {
   "cell_type": "markdown",
   "metadata": {},
   "source": [
    "## Exportando formato .XLSX"
   ]
  },
  {
   "cell_type": "code",
   "execution_count": 287,
   "metadata": {},
   "outputs": [],
   "source": [
    "#Renomeando as colunas para melhor visualização no Excel\n",
    "df_relatorio = df_relatorio.rename(columns={'nome_fantasia':'loja','valor_liquido':'valor liquido', 'valor_bruto':'valor bruto'})"
   ]
  },
  {
   "cell_type": "code",
   "execution_count": 288,
   "metadata": {},
   "outputs": [],
   "source": [
    "writer = pd.ExcelWriter('Relatorio Final.xlsx')\n",
    "df_relatorio.to_excel(writer, sheet_name = 'relatorio', index= False)\n",
    "writer.save()"
   ]
  }
 ],
 "metadata": {
  "kernelspec": {
   "display_name": "Python 3",
   "language": "python",
   "name": "python3"
  },
  "language_info": {
   "codemirror_mode": {
    "name": "ipython",
    "version": 3
   },
   "file_extension": ".py",
   "mimetype": "text/x-python",
   "name": "python",
   "nbconvert_exporter": "python",
   "pygments_lexer": "ipython3",
   "version": "3.7.4"
  }
 },
 "nbformat": 4,
 "nbformat_minor": 4
}
